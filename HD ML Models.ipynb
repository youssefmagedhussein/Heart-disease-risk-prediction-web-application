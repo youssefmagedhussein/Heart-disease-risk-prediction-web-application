{
 "cells": [
  {
   "cell_type": "markdown",
   "id": "71e3efef",
   "metadata": {},
   "source": [
    "## 🔹Step 1: Import Necessary Libraries"
   ]
  },
  {
   "cell_type": "code",
   "execution_count": 1,
   "id": "f6c8ff88",
   "metadata": {},
   "outputs": [],
   "source": [
    "import pandas as pd\n",
    "import numpy as np\n",
    "import matplotlib.pyplot as plt\n",
    "import seaborn as sns\n",
    "import joblib\n",
    "from sklearn.impute import SimpleImputer\n",
    "from sklearn.model_selection import train_test_split, GridSearchCV\n",
    "from sklearn.preprocessing import StandardScaler, OneHotEncoder\n",
    "from sklearn.compose import ColumnTransformer\n",
    "from sklearn.pipeline import Pipeline\n",
    "from sklearn.linear_model import LogisticRegression\n",
    "from sklearn.tree import DecisionTreeClassifier\n",
    "from sklearn.ensemble import RandomForestClassifier\n",
    "from sklearn.neighbors import KNeighborsClassifier\n",
    "from sklearn.naive_bayes import GaussianNB\n",
    "from sklearn.metrics import (\n",
    "    accuracy_score,\n",
    "    precision_score,\n",
    "    recall_score,\n",
    "    f1_score,\n",
    "    roc_auc_score,\n",
    "    classification_report,\n",
    ")"
   ]
  },
  {
   "cell_type": "markdown",
   "id": "8fe7b7fa",
   "metadata": {},
   "source": [
    "## 🔹 Step 2: Load and Inspect Data"
   ]
  },
  {
   "cell_type": "code",
   "execution_count": 2,
   "id": "a5b2108e",
   "metadata": {},
   "outputs": [
    {
     "name": "stdout",
     "output_type": "stream",
     "text": [
      "📌 First 5 Rows of Dataset:\n"
     ]
    },
    {
     "data": {
      "text/html": [
       "<div>\n",
       "<style scoped>\n",
       "    .dataframe tbody tr th:only-of-type {\n",
       "        vertical-align: middle;\n",
       "    }\n",
       "\n",
       "    .dataframe tbody tr th {\n",
       "        vertical-align: top;\n",
       "    }\n",
       "\n",
       "    .dataframe thead th {\n",
       "        text-align: right;\n",
       "    }\n",
       "</style>\n",
       "<table border=\"1\" class=\"dataframe\">\n",
       "  <thead>\n",
       "    <tr style=\"text-align: right;\">\n",
       "      <th></th>\n",
       "      <th>age</th>\n",
       "      <th>sex</th>\n",
       "      <th>cp</th>\n",
       "      <th>trestbps</th>\n",
       "      <th>chol</th>\n",
       "      <th>fbs</th>\n",
       "      <th>restecg</th>\n",
       "      <th>thalach</th>\n",
       "      <th>exang</th>\n",
       "      <th>oldpeak</th>\n",
       "      <th>slope</th>\n",
       "      <th>ca</th>\n",
       "      <th>thal</th>\n",
       "      <th>num</th>\n",
       "    </tr>\n",
       "  </thead>\n",
       "  <tbody>\n",
       "    <tr>\n",
       "      <th>0</th>\n",
       "      <td>63</td>\n",
       "      <td>1</td>\n",
       "      <td>1</td>\n",
       "      <td>145.0</td>\n",
       "      <td>233.0</td>\n",
       "      <td>1.0</td>\n",
       "      <td>2.0</td>\n",
       "      <td>150.0</td>\n",
       "      <td>0.0</td>\n",
       "      <td>2.3</td>\n",
       "      <td>3.0</td>\n",
       "      <td>0.0</td>\n",
       "      <td>6.0</td>\n",
       "      <td>0</td>\n",
       "    </tr>\n",
       "    <tr>\n",
       "      <th>1</th>\n",
       "      <td>67</td>\n",
       "      <td>1</td>\n",
       "      <td>4</td>\n",
       "      <td>160.0</td>\n",
       "      <td>286.0</td>\n",
       "      <td>0.0</td>\n",
       "      <td>2.0</td>\n",
       "      <td>108.0</td>\n",
       "      <td>1.0</td>\n",
       "      <td>1.5</td>\n",
       "      <td>2.0</td>\n",
       "      <td>3.0</td>\n",
       "      <td>3.0</td>\n",
       "      <td>2</td>\n",
       "    </tr>\n",
       "    <tr>\n",
       "      <th>2</th>\n",
       "      <td>67</td>\n",
       "      <td>1</td>\n",
       "      <td>4</td>\n",
       "      <td>120.0</td>\n",
       "      <td>229.0</td>\n",
       "      <td>0.0</td>\n",
       "      <td>2.0</td>\n",
       "      <td>129.0</td>\n",
       "      <td>1.0</td>\n",
       "      <td>2.6</td>\n",
       "      <td>2.0</td>\n",
       "      <td>2.0</td>\n",
       "      <td>7.0</td>\n",
       "      <td>1</td>\n",
       "    </tr>\n",
       "    <tr>\n",
       "      <th>3</th>\n",
       "      <td>37</td>\n",
       "      <td>1</td>\n",
       "      <td>3</td>\n",
       "      <td>130.0</td>\n",
       "      <td>250.0</td>\n",
       "      <td>0.0</td>\n",
       "      <td>0.0</td>\n",
       "      <td>187.0</td>\n",
       "      <td>0.0</td>\n",
       "      <td>3.5</td>\n",
       "      <td>3.0</td>\n",
       "      <td>0.0</td>\n",
       "      <td>3.0</td>\n",
       "      <td>0</td>\n",
       "    </tr>\n",
       "    <tr>\n",
       "      <th>4</th>\n",
       "      <td>41</td>\n",
       "      <td>0</td>\n",
       "      <td>2</td>\n",
       "      <td>130.0</td>\n",
       "      <td>204.0</td>\n",
       "      <td>0.0</td>\n",
       "      <td>2.0</td>\n",
       "      <td>172.0</td>\n",
       "      <td>0.0</td>\n",
       "      <td>1.4</td>\n",
       "      <td>1.0</td>\n",
       "      <td>0.0</td>\n",
       "      <td>3.0</td>\n",
       "      <td>0</td>\n",
       "    </tr>\n",
       "  </tbody>\n",
       "</table>\n",
       "</div>"
      ],
      "text/plain": [
       "   age  sex  cp  trestbps   chol  fbs  restecg  thalach  exang  oldpeak  \\\n",
       "0   63    1   1     145.0  233.0  1.0      2.0    150.0    0.0      2.3   \n",
       "1   67    1   4     160.0  286.0  0.0      2.0    108.0    1.0      1.5   \n",
       "2   67    1   4     120.0  229.0  0.0      2.0    129.0    1.0      2.6   \n",
       "3   37    1   3     130.0  250.0  0.0      0.0    187.0    0.0      3.5   \n",
       "4   41    0   2     130.0  204.0  0.0      2.0    172.0    0.0      1.4   \n",
       "\n",
       "   slope   ca  thal  num  \n",
       "0    3.0  0.0   6.0    0  \n",
       "1    2.0  3.0   3.0    2  \n",
       "2    2.0  2.0   7.0    1  \n",
       "3    3.0  0.0   3.0    0  \n",
       "4    1.0  0.0   3.0    0  "
      ]
     },
     "metadata": {},
     "output_type": "display_data"
    }
   ],
   "source": [
    "# Load the dataset\n",
    "data = pd.read_csv(\"Heart_Data.csv\", na_values=\"?\")\n",
    "\n",
    "# Display the first 5 rows of the dataset\n",
    "print(\"📌 First 5 Rows of Dataset:\")\n",
    "display(data.head())"
   ]
  },
  {
   "cell_type": "markdown",
   "id": "372d1a13",
   "metadata": {},
   "source": [
    "## 🔹 Step 3: Data Cleaning"
   ]
  },
  {
   "cell_type": "code",
   "execution_count": 3,
   "id": "a806f31c",
   "metadata": {},
   "outputs": [
    {
     "name": "stdout",
     "output_type": "stream",
     "text": [
      "✅ Cleaned Dataset Preview:\n"
     ]
    },
    {
     "data": {
      "text/html": [
       "<div>\n",
       "<style scoped>\n",
       "    .dataframe tbody tr th:only-of-type {\n",
       "        vertical-align: middle;\n",
       "    }\n",
       "\n",
       "    .dataframe tbody tr th {\n",
       "        vertical-align: top;\n",
       "    }\n",
       "\n",
       "    .dataframe thead th {\n",
       "        text-align: right;\n",
       "    }\n",
       "</style>\n",
       "<table border=\"1\" class=\"dataframe\">\n",
       "  <thead>\n",
       "    <tr style=\"text-align: right;\">\n",
       "      <th></th>\n",
       "      <th>age</th>\n",
       "      <th>sex</th>\n",
       "      <th>cp</th>\n",
       "      <th>trestbps</th>\n",
       "      <th>chol</th>\n",
       "      <th>fbs</th>\n",
       "      <th>restecg</th>\n",
       "      <th>thalach</th>\n",
       "      <th>exang</th>\n",
       "      <th>oldpeak</th>\n",
       "      <th>num</th>\n",
       "    </tr>\n",
       "  </thead>\n",
       "  <tbody>\n",
       "    <tr>\n",
       "      <th>0</th>\n",
       "      <td>63.0</td>\n",
       "      <td>1.0</td>\n",
       "      <td>1.0</td>\n",
       "      <td>145.0</td>\n",
       "      <td>233.0</td>\n",
       "      <td>1.0</td>\n",
       "      <td>2.0</td>\n",
       "      <td>150.0</td>\n",
       "      <td>0.0</td>\n",
       "      <td>2.3</td>\n",
       "      <td>0</td>\n",
       "    </tr>\n",
       "    <tr>\n",
       "      <th>1</th>\n",
       "      <td>67.0</td>\n",
       "      <td>1.0</td>\n",
       "      <td>4.0</td>\n",
       "      <td>160.0</td>\n",
       "      <td>286.0</td>\n",
       "      <td>0.0</td>\n",
       "      <td>2.0</td>\n",
       "      <td>108.0</td>\n",
       "      <td>1.0</td>\n",
       "      <td>1.5</td>\n",
       "      <td>1</td>\n",
       "    </tr>\n",
       "    <tr>\n",
       "      <th>2</th>\n",
       "      <td>67.0</td>\n",
       "      <td>1.0</td>\n",
       "      <td>4.0</td>\n",
       "      <td>120.0</td>\n",
       "      <td>229.0</td>\n",
       "      <td>0.0</td>\n",
       "      <td>2.0</td>\n",
       "      <td>129.0</td>\n",
       "      <td>1.0</td>\n",
       "      <td>2.6</td>\n",
       "      <td>1</td>\n",
       "    </tr>\n",
       "    <tr>\n",
       "      <th>3</th>\n",
       "      <td>37.0</td>\n",
       "      <td>1.0</td>\n",
       "      <td>3.0</td>\n",
       "      <td>130.0</td>\n",
       "      <td>250.0</td>\n",
       "      <td>0.0</td>\n",
       "      <td>0.0</td>\n",
       "      <td>187.0</td>\n",
       "      <td>0.0</td>\n",
       "      <td>3.5</td>\n",
       "      <td>0</td>\n",
       "    </tr>\n",
       "    <tr>\n",
       "      <th>4</th>\n",
       "      <td>41.0</td>\n",
       "      <td>0.0</td>\n",
       "      <td>2.0</td>\n",
       "      <td>130.0</td>\n",
       "      <td>204.0</td>\n",
       "      <td>0.0</td>\n",
       "      <td>2.0</td>\n",
       "      <td>172.0</td>\n",
       "      <td>0.0</td>\n",
       "      <td>1.4</td>\n",
       "      <td>0</td>\n",
       "    </tr>\n",
       "  </tbody>\n",
       "</table>\n",
       "</div>"
      ],
      "text/plain": [
       "    age  sex   cp  trestbps   chol  fbs  restecg  thalach  exang  oldpeak  num\n",
       "0  63.0  1.0  1.0     145.0  233.0  1.0      2.0    150.0    0.0      2.3    0\n",
       "1  67.0  1.0  4.0     160.0  286.0  0.0      2.0    108.0    1.0      1.5    1\n",
       "2  67.0  1.0  4.0     120.0  229.0  0.0      2.0    129.0    1.0      2.6    1\n",
       "3  37.0  1.0  3.0     130.0  250.0  0.0      0.0    187.0    0.0      3.5    0\n",
       "4  41.0  0.0  2.0     130.0  204.0  0.0      2.0    172.0    0.0      1.4    0"
      ]
     },
     "metadata": {},
     "output_type": "display_data"
    }
   ],
   "source": [
    "# Drop Unnecessary Columns (Columns with Too Many Missing Values)\n",
    "data.drop(columns=[\"slope\", \"ca\", \"thal\"], inplace=True)\n",
    "\n",
    "# Identify Feature Types\n",
    "numerical_cols = [\"age\", \"trestbps\", \"chol\", \"thalach\", \"oldpeak\"]\n",
    "categorical_cols = [\"sex\",\"cp\",  \"fbs\", \"restecg\", \"exang\"]\n",
    "\n",
    "# Convert Target Variable to Binary\n",
    "data[\"num\"] = data[\"num\"].apply(lambda x: 1 if x > 0 else 0)\n",
    "\n",
    "# Handling Missing Values\n",
    "num_imputer = SimpleImputer(strategy=\"mean\")  # Mean for numerical values\n",
    "cat_imputer = SimpleImputer(strategy=\"most_frequent\")  # Most common category for categorical values\n",
    "\n",
    "data[numerical_cols] = num_imputer.fit_transform(data[numerical_cols])\n",
    "data[categorical_cols] = cat_imputer.fit_transform(data[categorical_cols])\n",
    "\n",
    "# Display the dataset after cleaning\n",
    "print(\"✅ Cleaned Dataset Preview:\")\n",
    "display(data.head())"
   ]
  },
  {
   "cell_type": "markdown",
   "id": "e9a71b3c",
   "metadata": {},
   "source": [
    "## 🔹 Step 4: Descriptive Statistics"
   ]
  },
  {
   "cell_type": "code",
   "execution_count": 4,
   "id": "62c29012",
   "metadata": {},
   "outputs": [
    {
     "data": {
      "image/png": "[encoded data removed]",
      "text/plain": [
       "<Figure size 600x600 with 1 Axes>"
      ]
     },
     "metadata": {},
     "output_type": "display_data"
    }
   ],
   "source": [
    "# Male VS Female Count\n",
    "plt.figure(figsize=(6, 6))\n",
    "gender_counts = data[\"sex\"].value_counts()\n",
    "labels = [\"Male\", \"Female\"]\n",
    "colors = [\"#ff9999\", \"#66b3ff\"]\n",
    "plt.pie(gender_counts, labels=labels, autopct='%1.1f%%', colors=colors, startangle=90, explode=[0.05, 0.05])\n",
    "plt.title(\"Gender Distribution\")\n",
    "plt.show()"
   ]
  },
  {
   "cell_type": "code",
   "execution_count": 5,
   "id": "97f7c57a",
   "metadata": {},
   "outputs": [
    {
     "data": {
      "image/png": "[encoded data removed]",
      "text/plain": [
       "<Figure size 600x600 with 1 Axes>"
      ]
     },
     "metadata": {},
     "output_type": "display_data"
    }
   ],
   "source": [
    "# Heart Disease VS No Disease Count\n",
    "plt.figure(figsize=(6, 6))\n",
    "disease_counts = data[\"num\"].value_counts()\n",
    "labels = [\"No Disease\", \"Diseased\"]\n",
    "colors = [\"#66c2a5\", \"#fc8d62\"]\n",
    "plt.pie(disease_counts, labels=labels, autopct='%1.1f%%', colors=colors, startangle=90, explode=[0.05, 0.05])\n",
    "plt.title(\"Heart Disease Distribution\")\n",
    "plt.show()"
   ]
  },
  {
   "cell_type": "code",
   "execution_count": 6,
   "id": "334b4045",
   "metadata": {},
   "outputs": [
    {
     "data": {
      "image/png": "[encoded data removed]",
      "text/plain": [
       "<Figure size 800x500 with 1 Axes>"
      ]
     },
     "metadata": {},
     "output_type": "display_data"
    }
   ],
   "source": [
    "# Age Distribution (Check Normality)\n",
    "plt.figure(figsize=(8, 5))\n",
    "sns.histplot(data[\"age\"], bins=20, kde=True, color=\"#4c72b0\")\n",
    "plt.title(\"Age Distribution\")\n",
    "plt.xlabel(\"Age\")\n",
    "plt.ylabel(\"Count\")\n",
    "plt.show()"
   ]
  },
  {
   "cell_type": "code",
   "execution_count": 7,
   "id": "6b47880b",
   "metadata": {},
   "outputs": [
    {
     "data": {
      "image/png": "[encoded data removed]",
      "text/plain": [
       "<Figure size 800x500 with 1 Axes>"
      ]
     },
     "metadata": {},
     "output_type": "display_data"
    }
   ],
   "source": [
    "# Filter data for people with heart disease\n",
    "data_with_disease = data[data[\"num\"] == 1]\n",
    "\n",
    "# Plot Age Distribution for people with heart disease\n",
    "plt.figure(figsize=(8, 5))\n",
    "sns.histplot(data_with_disease[\"age\"], bins=20, kde=True, color=\"#ff7f0e\")\n",
    "plt.title(\"Age Distribution (Only People with Heart Disease)\")\n",
    "plt.xlabel(\"Age\")\n",
    "plt.ylabel(\"Count\")\n",
    "plt.show()"
   ]
  },
  {
   "cell_type": "markdown",
   "id": "224e59b1",
   "metadata": {},
   "source": [
    "## 🔹 Step 5: Feature Engineering"
   ]
  },
  {
   "cell_type": "code",
   "execution_count": 8,
   "id": "c1d2a4cd",
   "metadata": {},
   "outputs": [
    {
     "data": {
      "text/plain": [
       "['preprocessor.pkl']"
      ]
     },
     "execution_count": 8,
     "metadata": {},
     "output_type": "execute_result"
    }
   ],
   "source": [
    "# Separate features and target variable\n",
    "X = data.drop(\"num\", axis=1)\n",
    "y = data[\"num\"]\n",
    "\n",
    "# Define preprocessing for numeric and categorical features\n",
    "num_transformer = Pipeline(steps=[(\"scaler\", StandardScaler())])\n",
    "cat_transformer = Pipeline(steps=[(\"encoder\", OneHotEncoder(drop=\"first\", handle_unknown='ignore'))])\n",
    "\n",
    "# Combine into ColumnTransformer\n",
    "preprocessor = ColumnTransformer(\n",
    "    transformers=[\n",
    "        (\"num\", num_transformer, numerical_cols),\n",
    "        (\"cat\", cat_transformer, categorical_cols),\n",
    "    ]\n",
    ")\n",
    "\n",
    "# Split dataset into training and testing sets\n",
    "X_train, X_test, y_train, y_test = train_test_split(X, y, test_size=0.2, random_state=42)\n",
    "\n",
    "# Apply transformations\n",
    "X_train = preprocessor.fit_transform(X_train)\n",
    "X_test = preprocessor.transform(X_test)\n",
    "\n",
    "# save the preprocesssor\n",
    "joblib.dump(preprocessor, 'preprocessor.pkl')"
   ]
  },
  {
   "cell_type": "markdown",
   "id": "f6755534",
   "metadata": {},
   "source": [
    "## 🔹 Step 6: Model Training"
   ]
  },
  {
   "cell_type": "code",
   "execution_count": 9,
   "id": "20caf856",
   "metadata": {},
   "outputs": [
    {
     "name": "stdout",
     "output_type": "stream",
     "text": [
      "✅ Best K value for KNN: 35\n"
     ]
    }
   ],
   "source": [
    "# Initialize models\n",
    "models = {\n",
    "    \"Logistic Regression\": LogisticRegression(),\n",
    "    \"Decision Tree\": DecisionTreeClassifier(),\n",
    "    \"Random Forest\": RandomForestClassifier(),\n",
    "    \"Naive Bayes\": GaussianNB(),\n",
    "}\n",
    "\n",
    "# Hyperparameter tuning for KNN\n",
    "knn_param_grid = {\"n_neighbors\": [5, 10, 15, 20, 25, 30, 35]}\n",
    "knn_grid = GridSearchCV(KNeighborsClassifier(), knn_param_grid, scoring=\"accuracy\", cv=5)\n",
    "knn_grid.fit(X_train, y_train)\n",
    "best_k = knn_grid.best_params_[\"n_neighbors\"]\n",
    "models[\"KNN\"] = KNeighborsClassifier(n_neighbors=best_k)\n",
    "\n",
    "print(f\"✅ Best K value for KNN: {best_k}\")"
   ]
  },
  {
   "cell_type": "markdown",
   "id": "774ce0b5",
   "metadata": {},
   "source": [
    "## 🔹 Step 7: Models Evaluation and Comparison"
   ]
  },
  {
   "cell_type": "code",
   "execution_count": 10,
   "id": "254ce770",
   "metadata": {},
   "outputs": [
    {
     "name": "stdout",
     "output_type": "stream",
     "text": [
      "\n",
      "📌 Model Performance Summary:\n"
     ]
    },
    {
     "data": {
      "text/html": [
       "<div>\n",
       "<style scoped>\n",
       "    .dataframe tbody tr th:only-of-type {\n",
       "        vertical-align: middle;\n",
       "    }\n",
       "\n",
       "    .dataframe tbody tr th {\n",
       "        vertical-align: top;\n",
       "    }\n",
       "\n",
       "    .dataframe thead th {\n",
       "        text-align: right;\n",
       "    }\n",
       "</style>\n",
       "<table border=\"1\" class=\"dataframe\">\n",
       "  <thead>\n",
       "    <tr style=\"text-align: right;\">\n",
       "      <th></th>\n",
       "      <th>Accuracy</th>\n",
       "      <th>Precision</th>\n",
       "      <th>Recall</th>\n",
       "      <th>F1-Score</th>\n",
       "      <th>ROC-AUC</th>\n",
       "    </tr>\n",
       "  </thead>\n",
       "  <tbody>\n",
       "    <tr>\n",
       "      <th>Logistic Regression</th>\n",
       "      <td>0.826087</td>\n",
       "      <td>0.876106</td>\n",
       "      <td>0.846154</td>\n",
       "      <td>0.860870</td>\n",
       "      <td>0.902794</td>\n",
       "    </tr>\n",
       "    <tr>\n",
       "      <th>Decision Tree</th>\n",
       "      <td>0.771739</td>\n",
       "      <td>0.831858</td>\n",
       "      <td>0.803419</td>\n",
       "      <td>0.817391</td>\n",
       "      <td>0.759918</td>\n",
       "    </tr>\n",
       "    <tr>\n",
       "      <th>Random Forest</th>\n",
       "      <td>0.836957</td>\n",
       "      <td>0.884956</td>\n",
       "      <td>0.854701</td>\n",
       "      <td>0.869565</td>\n",
       "      <td>0.897627</td>\n",
       "    </tr>\n",
       "    <tr>\n",
       "      <th>Naive Bayes</th>\n",
       "      <td>0.858696</td>\n",
       "      <td>0.882353</td>\n",
       "      <td>0.897436</td>\n",
       "      <td>0.889831</td>\n",
       "      <td>0.909810</td>\n",
       "    </tr>\n",
       "    <tr>\n",
       "      <th>KNN</th>\n",
       "      <td>0.869565</td>\n",
       "      <td>0.918919</td>\n",
       "      <td>0.871795</td>\n",
       "      <td>0.894737</td>\n",
       "      <td>0.914147</td>\n",
       "    </tr>\n",
       "  </tbody>\n",
       "</table>\n",
       "</div>"
      ],
      "text/plain": [
       "                     Accuracy  Precision    Recall  F1-Score   ROC-AUC\n",
       "Logistic Regression  0.826087   0.876106  0.846154  0.860870  0.902794\n",
       "Decision Tree        0.771739   0.831858  0.803419  0.817391  0.759918\n",
       "Random Forest        0.836957   0.884956  0.854701  0.869565  0.897627\n",
       "Naive Bayes          0.858696   0.882353  0.897436  0.889831  0.909810\n",
       "KNN                  0.869565   0.918919  0.871795  0.894737  0.914147"
      ]
     },
     "metadata": {},
     "output_type": "display_data"
    }
   ],
   "source": [
    "# Train and evaluate models\n",
    "results = {}\n",
    "for name, model in models.items():\n",
    "    model.fit(X_train, y_train)\n",
    "    y_pred = model.predict(X_test)\n",
    "    y_proba = model.predict_proba(X_test)[:, 1] if hasattr(model, \"predict_proba\") else None\n",
    "\n",
    "    results[name] = {\n",
    "        \"Accuracy\": accuracy_score(y_test, y_pred),\n",
    "        \"Precision\": precision_score(y_test, y_pred),\n",
    "        \"Recall\": recall_score(y_test, y_pred),\n",
    "        \"F1-Score\": f1_score(y_test, y_pred),\n",
    "        \"ROC-AUC\": roc_auc_score(y_test, y_proba) if y_proba is not None else None\n",
    "    }\n",
    "# Convert results to DataFrame (Better for reading)\n",
    "results_df = pd.DataFrame(results).T\n",
    "print(\"\\n📌 Model Performance Summary:\")\n",
    "display(results_df)"
   ]
  },
  {
   "cell_type": "markdown",
   "id": "8189deb3",
   "metadata": {},
   "source": [
    "## 🔹 Step 8: Feature importance for Random Forest"
   ]
  },
  {
   "cell_type": "code",
   "execution_count": 11,
   "id": "c4d68297",
   "metadata": {},
   "outputs": [
    {
     "name": "stdout",
     "output_type": "stream",
     "text": [
      "\n",
      "📌 Feature Importance:\n",
      "             Feature  Importance\n",
      "2          num__chol    0.145704\n",
      "3       num__thalach    0.136299\n",
      "0           num__age    0.127218\n",
      "4       num__oldpeak    0.117572\n",
      "1      num__trestbps    0.103741\n",
      "8        cat__cp_4.0    0.102695\n",
      "12    cat__exang_1.0    0.083800\n",
      "6        cat__cp_2.0    0.059428\n",
      "5       cat__sex_1.0    0.048612\n",
      "7        cat__cp_3.0    0.023505\n",
      "10  cat__restecg_1.0    0.019201\n",
      "11  cat__restecg_2.0    0.016167\n",
      "9       cat__fbs_1.0    0.016058\n"
     ]
    }
   ],
   "source": [
    "rf_model_features = models[\"Random Forest\"]\n",
    "feature_importance = rf_model_features.feature_importances_\n",
    "feature_names = preprocessor.get_feature_names_out()\n",
    "importance_df = pd.DataFrame({\"Feature\": feature_names, \"Importance\": feature_importance})\n",
    "print(\"\\n📌 Feature Importance:\")\n",
    "print(importance_df.sort_values(\"Importance\", ascending=False))"
   ]
  },
  {
   "cell_type": "markdown",
   "id": "26845c5b",
   "metadata": {},
   "source": [
    "## 🔹 Step 9: Best Model"
   ]
  },
  {
   "cell_type": "code",
   "execution_count": 12,
   "id": "09fd6494",
   "metadata": {},
   "outputs": [
    {
     "name": "stdout",
     "output_type": "stream",
     "text": [
      "\n",
      "✅ The best model is KNN\n"
     ]
    }
   ],
   "source": [
    "# Select the best model based on Accuracy\n",
    "best_model_name = max(results, key=lambda x: results[x][\"Accuracy\"])\n",
    "print(f\"\\n✅ The best model is {best_model_name}\")"
   ]
  },
  {
   "cell_type": "markdown",
   "id": "56277e33",
   "metadata": {},
   "source": [
    "## 🔹 Step 10: Save all of the models"
   ]
  },
  {
   "cell_type": "code",
   "execution_count": 13,
   "id": "aed46dd4",
   "metadata": {},
   "outputs": [
    {
     "name": "stdout",
     "output_type": "stream",
     "text": [
      "✅ logistic_regression.pkl\n",
      "✅ decision_tree.pkl\n",
      "✅ random_forest.pkl\n",
      "✅ naive_bayes.pkl\n",
      "✅ knn.pkl\n"
     ]
    }
   ],
   "source": [
    "# Save all models with cleaner loop\n",
    "for name, model in models.items():\n",
    "    filename = f\"{name.lower().replace(' ', '_')}.pkl\"\n",
    "    joblib.dump(model, filename)\n",
    "    print(f\"✅ {filename}\")"
   ]
  },
  {
   "cell_type": "code",
   "execution_count": null,
   "id": "73c0ddfe",
   "metadata": {},
   "outputs": [],
   "source": []
  }
 ],
 "metadata": {
  "kernelspec": {
   "display_name": "Python 3 (ipykernel)",
   "language": "python",
   "name": "python3"
  },
  "language_info": {
   "codemirror_mode": {
    "name": "ipython",
    "version": 3
   },
   "file_extension": ".py",
   "mimetype": "text/x-python",
   "name": "python",
   "nbconvert_exporter": "python",
   "pygments_lexer": "ipython3",
   "version": "3.11.5"
  }
 },
 "nbformat": 4,
 "nbformat_minor": 5
}
